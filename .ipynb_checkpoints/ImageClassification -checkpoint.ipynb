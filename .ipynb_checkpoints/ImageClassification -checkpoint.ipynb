{
 "cells": [
  {
   "cell_type": "markdown",
   "id": "f59fb00b",
   "metadata": {},
   "source": [
    "# Image Classification Program \n",
    "\n",
    "#### Import all necessary packages before starting the program"
   ]
  },
  {
   "cell_type": "code",
   "execution_count": 1,
   "id": "fc96910b",
   "metadata": {},
   "outputs": [],
   "source": [
    "import tensorflow as tf\n",
    "from tensorflow import keras\n",
    "from tensorflow.keras import layers\n",
    "import numpy as np\n",
    "import ssl\n",
    "ssl._create_default_https_context = ssl._create_unverified_context"
   ]
  },
  {
   "cell_type": "markdown",
   "id": "202c7fcc",
   "metadata": {},
   "source": [
    "#### Load the cifar10 dataset \n",
    "For now, this will be the dataset I use to determine the diff shapes\n"
   ]
  },
  {
   "cell_type": "code",
   "execution_count": 2,
   "id": "345f8e3f",
   "metadata": {},
   "outputs": [],
   "source": [
    "\n",
    "cifar_data = keras.datasets.cifar100\n",
    "\n",
    "(data_train, label_train), (data_test, label_test) = cifar_data.load_data(label_mode=\"coarse\")\n",
    "\n",
    "assert data_train.shape == (50000, 32, 32, 3)\n",
    "assert data_test.shape == (10000, 32, 32, 3)\n",
    "assert label_train.shape == (50000, 1)\n",
    "assert label_test.shape == (10000, 1)\n"
   ]
  },
  {
   "cell_type": "markdown",
   "id": "1a45fa31",
   "metadata": {},
   "source": [
    "#### Set up the neural network model\n"
   ]
  },
  {
   "cell_type": "code",
   "execution_count": 3,
   "id": "6bc94aa2",
   "metadata": {
    "scrolled": true
   },
   "outputs": [
    {
     "name": "stdout",
     "output_type": "stream",
     "text": [
      "Model: \"sequential\"\n",
      "_________________________________________________________________\n",
      " Layer (type)                Output Shape              Param #   \n",
      "=================================================================\n",
      " conv2d (Conv2D)             (None, 30, 30, 64)        1792      \n",
      "                                                                 \n",
      " max_pooling2d (MaxPooling2D  (None, 15, 15, 64)       0         \n",
      " )                                                               \n",
      "                                                                 \n",
      " flatten (Flatten)           (None, 14400)             0         \n",
      "                                                                 \n",
      " dense (Dense)               (None, 128)               1843328   \n",
      "                                                                 \n",
      " dense_1 (Dense)             (None, 20)                2580      \n",
      "                                                                 \n",
      "=================================================================\n",
      "Total params: 1,847,700\n",
      "Trainable params: 1,847,700\n",
      "Non-trainable params: 0\n",
      "_________________________________________________________________\n"
     ]
    }
   ],
   "source": [
    "model = keras.Sequential([\n",
    "    keras.layers.Conv2D(64, (3,3), activation='relu',\n",
    "                        input_shape=(32,32,3)),\n",
    "    keras.layers.MaxPool2D(2,2),\n",
    "    keras.layers.Flatten(),\n",
    "    keras.layers.Dense(128, activation='relu'),\n",
    "    keras.layers.Dense(20, activation='softmax')\n",
    "])\n",
    "\n",
    "model.compile(optimizer='adam',\n",
    "             loss='sparse_categorical_crossentropy',\n",
    "             metrics=['accuracy'])\n",
    "model.summary()"
   ]
  },
  {
   "cell_type": "markdown",
   "id": "9ccfd0fa",
   "metadata": {},
   "source": [
    "#### Fit the training data to the model using 10 epochs.\n",
    "After 1st run, the accuracy was ~67.8% with loss ~1.05 <br>\n",
    "After 2nd run, the accuracy was ~87.6% with loss ~0.41 <br>\n",
    "After 3rd run, the accuracy was ~91.4% with loss ~0.33\n"
   ]
  },
  {
   "cell_type": "code",
   "execution_count": 14,
   "id": "961cd7a6",
   "metadata": {},
   "outputs": [
    {
     "name": "stdout",
     "output_type": "stream",
     "text": [
      "Epoch 1/10\n",
      "1563/1563 [==============================] - 44s 28ms/step - loss: 0.2965 - accuracy: 0.9524\n",
      "Epoch 2/10\n",
      "1563/1563 [==============================] - 42s 27ms/step - loss: 0.2930 - accuracy: 0.9560\n",
      "Epoch 3/10\n",
      "1563/1563 [==============================] - 42s 27ms/step - loss: 0.2915 - accuracy: 0.9553\n",
      "Epoch 4/10\n",
      "1563/1563 [==============================] - 43s 28ms/step - loss: 0.2825 - accuracy: 0.9553\n",
      "Epoch 5/10\n",
      "1563/1563 [==============================] - 43s 28ms/step - loss: 0.2873 - accuracy: 0.9553\n",
      "Epoch 6/10\n",
      "1563/1563 [==============================] - 44s 28ms/step - loss: 0.3293 - accuracy: 0.9529\n",
      "Epoch 7/10\n",
      "1563/1563 [==============================] - 45s 28ms/step - loss: 0.2763 - accuracy: 0.9588\n",
      "Epoch 8/10\n",
      "1563/1563 [==============================] - 44s 28ms/step - loss: 0.2816 - accuracy: 0.9589\n",
      "Epoch 9/10\n",
      "1563/1563 [==============================] - 43s 27ms/step - loss: 0.2921 - accuracy: 0.9573\n",
      "Epoch 10/10\n",
      "1563/1563 [==============================] - 43s 27ms/step - loss: 0.3120 - accuracy: 0.9552\n",
      "1563/1563 [==============================] - 13s 8ms/step - loss: 0.3641 - accuracy: 0.9449\n",
      "Test loss: 0.3641377389431, Test accuracy: 94.48599815368652\n"
     ]
    }
   ],
   "source": [
    "model.fit(x=data_train, y=label_train, epochs=10)\n",
    "test_loss, test_accuracy = model.evaluate(data_train, label_train)\n",
    "\n",
    "print('Test loss: {}, Test accuracy: {}'.format(test_loss, test_accuracy*100))"
   ]
  },
  {
   "cell_type": "code",
   "execution_count": null,
   "id": "760e1aad",
   "metadata": {},
   "outputs": [],
   "source": []
  },
  {
   "cell_type": "code",
   "execution_count": null,
   "id": "52becb6a",
   "metadata": {},
   "outputs": [],
   "source": []
  }
 ],
 "metadata": {
  "kernelspec": {
   "display_name": "Python 3 (ipykernel)",
   "language": "python",
   "name": "python3"
  },
  "language_info": {
   "codemirror_mode": {
    "name": "ipython",
    "version": 3
   },
   "file_extension": ".py",
   "mimetype": "text/x-python",
   "name": "python",
   "nbconvert_exporter": "python",
   "pygments_lexer": "ipython3",
   "version": "3.9.12"
  }
 },
 "nbformat": 4,
 "nbformat_minor": 5
}
