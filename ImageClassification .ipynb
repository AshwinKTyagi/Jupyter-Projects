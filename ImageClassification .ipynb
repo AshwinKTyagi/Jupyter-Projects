{
 "cells": [
  {
   "cell_type": "markdown",
   "id": "e59e584b",
   "metadata": {},
   "source": [
    "# Image Classification Program \n",
    "\n",
    "#### Import all necessary packages before starting the program"
   ]
  },
  {
   "cell_type": "code",
   "execution_count": 1,
   "id": "c8071088",
   "metadata": {},
   "outputs": [],
   "source": [
    "import matplotlib.pyplot as plt\n",
    "\n",
    "import tensorflow as tf\n",
    "import keras\n",
    "\n",
    "\n",
    "from keras import layers\n",
    "from keras import datasets\n",
    "from tensorflow.keras.preprocessing.image import load_img\n",
    "from tensorflow.keras.preprocessing.image import ImageDataGenerator\n",
    "from tensorflow.keras.optimizers import Adam\n",
    "import numpy as np\n",
    "\n",
    "import urllib.request\n",
    "from PIL import Image\n",
    "\n",
    "from sklearn.metrics import classification_report,confusion_matrix\n",
    "\n",
    "import ssl\n",
    "ssl._create_default_https_context = ssl._create_unverified_context"
   ]
  },
  {
   "cell_type": "markdown",
   "id": "12710f65",
   "metadata": {},
   "source": [
    "#### Load the cifar10 dataset \n",
    "For now, this will be the dataset I use to determine the diff shapes\n"
   ]
  },
  {
   "cell_type": "code",
   "execution_count": 9,
   "id": "715f6ba4",
   "metadata": {},
   "outputs": [],
   "source": [
    "\n",
    "cifar_data = keras.datasets.cifar10\n",
    "\n",
    "(data_train, label_train), (data_test, label_test) = cifar_data.load_data()\n",
    "\n",
    "assert data_train.shape == (50000, 32, 32, 3)\n",
    "assert data_test.shape == (10000, 32, 32, 3)\n",
    "assert label_train.shape == (50000, 1)\n",
    "assert label_test.shape == (10000, 1)\n",
    "\n",
    "#Normalize the Data\n",
    "data_train = np.array(data_train) / 255\n",
    "data_test = np.array(data_test) / 255\n"
   ]
  },
  {
   "cell_type": "markdown",
   "id": "0145b295",
   "metadata": {},
   "source": [
    "#### Set up the neural network model\n"
   ]
  },
  {
   "cell_type": "code",
   "execution_count": 21,
   "id": "64050898",
   "metadata": {
    "scrolled": true
   },
   "outputs": [
    {
     "name": "stdout",
     "output_type": "stream",
     "text": [
      "Model: \"sequential_5\"\n",
      "_________________________________________________________________\n",
      " Layer (type)                Output Shape              Param #   \n",
      "=================================================================\n",
      " conv2d_3 (Conv2D)           (None, 30, 30, 64)        1792      \n",
      "                                                                 \n",
      " max_pooling2d_3 (MaxPooling  (None, 15, 15, 64)       0         \n",
      " 2D)                                                             \n",
      "                                                                 \n",
      " dropout_3 (Dropout)         (None, 15, 15, 64)        0         \n",
      "                                                                 \n",
      " flatten_5 (Flatten)         (None, 14400)             0         \n",
      "                                                                 \n",
      " dense_10 (Dense)            (None, 128)               1843328   \n",
      "                                                                 \n",
      " dense_11 (Dense)            (None, 10)                1290      \n",
      "                                                                 \n",
      "=================================================================\n",
      "Total params: 1,846,410\n",
      "Trainable params: 1,846,410\n",
      "Non-trainable params: 0\n",
      "_________________________________________________________________\n"
     ]
    }
   ],
   "source": [
    "model = keras.Sequential([\n",
    "    keras.layers.Conv2D(64, (3,3), activation='relu',\n",
    "                        input_shape=(32,32,3)),\n",
    "    keras.layers.MaxPool2D(2,2),\n",
    "    \n",
    "    keras.layers.Dropout(0.4),\n",
    "    \n",
    "    keras.layers.Flatten(),\n",
    "    keras.layers.Dense(128, activation='relu'),\n",
    "    keras.layers.Dense(10, activation='softmax')\n",
    "])\n",
    "\n",
    "opt = Adam(learning_rate=0.00001)\n",
    "model.compile(optimizer='adam',\n",
    "             loss='sparse_categorical_crossentropy',\n",
    "             metrics=['accuracy'])\n",
    "model.summary()"
   ]
  },
  {
   "cell_type": "markdown",
   "id": "eba047bc",
   "metadata": {},
   "source": [
    "#### Fit the training data to the model using 10 epochs.(evalutaing with 30 epochs now)\n",
    "After 1st run, the accuracy was ~67.8% with loss ~1.05 <br>\n",
    "After 2nd run, the accuracy was ~87.6% with loss ~0.41 <br>\n",
    "After 3rd run, the accuracy was ~91.4% with loss ~0.33\n"
   ]
  },
  {
   "cell_type": "code",
   "execution_count": 22,
   "id": "ec9feec9",
   "metadata": {},
   "outputs": [
    {
     "name": "stdout",
     "output_type": "stream",
     "text": [
      "Epoch 1/100\n",
      "1563/1563 [==============================] - 53s 33ms/step - loss: 1.4607 - accuracy: 0.4806\n",
      "Epoch 2/100\n",
      "1563/1563 [==============================] - 51s 32ms/step - loss: 1.1773 - accuracy: 0.5858\n",
      "Epoch 3/100\n",
      "1563/1563 [==============================] - 52s 33ms/step - loss: 1.0719 - accuracy: 0.6268\n",
      "Epoch 4/100\n",
      "1563/1563 [==============================] - 52s 33ms/step - loss: 0.9965 - accuracy: 0.6541\n",
      "Epoch 5/100\n",
      "1563/1563 [==============================] - 51s 33ms/step - loss: 0.9480 - accuracy: 0.6686\n",
      "Epoch 6/100\n",
      "1563/1563 [==============================] - 52s 33ms/step - loss: 0.8989 - accuracy: 0.6843\n",
      "Epoch 7/100\n",
      "1563/1563 [==============================] - 50s 32ms/step - loss: 0.8604 - accuracy: 0.6985\n",
      "Epoch 8/100\n",
      "1563/1563 [==============================] - 51s 32ms/step - loss: 0.8234 - accuracy: 0.7116\n",
      "Epoch 9/100\n",
      "1563/1563 [==============================] - 50s 32ms/step - loss: 0.7845 - accuracy: 0.7231\n",
      "Epoch 10/100\n",
      "1563/1563 [==============================] - 51s 33ms/step - loss: 0.7552 - accuracy: 0.7345\n",
      "Epoch 11/100\n",
      "1563/1563 [==============================] - 51s 32ms/step - loss: 0.7249 - accuracy: 0.7460\n",
      "Epoch 12/100\n",
      "1563/1563 [==============================] - 50s 32ms/step - loss: 0.6953 - accuracy: 0.7541\n",
      "Epoch 13/100\n",
      "1563/1563 [==============================] - 50s 32ms/step - loss: 0.6622 - accuracy: 0.7666\n",
      "Epoch 14/100\n",
      "1563/1563 [==============================] - 50s 32ms/step - loss: 0.6412 - accuracy: 0.7729\n",
      "Epoch 15/100\n",
      "1563/1563 [==============================] - 51s 32ms/step - loss: 0.6124 - accuracy: 0.7829\n",
      "Epoch 16/100\n",
      "1563/1563 [==============================] - 51s 32ms/step - loss: 0.5818 - accuracy: 0.7945\n",
      "Epoch 17/100\n",
      "1563/1563 [==============================] - 51s 32ms/step - loss: 0.5622 - accuracy: 0.8017\n",
      "Epoch 18/100\n",
      "1563/1563 [==============================] - 51s 32ms/step - loss: 0.5337 - accuracy: 0.8103\n",
      "Epoch 19/100\n",
      "1563/1563 [==============================] - 47s 30ms/step - loss: 0.5147 - accuracy: 0.8184\n",
      "Epoch 20/100\n",
      "1563/1563 [==============================] - 47s 30ms/step - loss: 0.4911 - accuracy: 0.8236\n",
      "Epoch 21/100\n",
      "1563/1563 [==============================] - 47s 30ms/step - loss: 0.4755 - accuracy: 0.8315\n",
      "Epoch 22/100\n",
      "1563/1563 [==============================] - 49s 32ms/step - loss: 0.4594 - accuracy: 0.8366\n",
      "Epoch 23/100\n",
      "1563/1563 [==============================] - 49s 31ms/step - loss: 0.4376 - accuracy: 0.8461\n",
      "Epoch 24/100\n",
      "1563/1563 [==============================] - 48s 31ms/step - loss: 0.4192 - accuracy: 0.8523\n",
      "Epoch 25/100\n",
      "1563/1563 [==============================] - 47s 30ms/step - loss: 0.4032 - accuracy: 0.8576\n",
      "Epoch 26/100\n",
      "1563/1563 [==============================] - 52s 33ms/step - loss: 0.3881 - accuracy: 0.8634\n",
      "Epoch 27/100\n",
      "1563/1563 [==============================] - 51s 32ms/step - loss: 0.3679 - accuracy: 0.8710\n",
      "Epoch 28/100\n",
      "1563/1563 [==============================] - 51s 33ms/step - loss: 0.3607 - accuracy: 0.8722\n",
      "Epoch 29/100\n",
      "1563/1563 [==============================] - 51s 33ms/step - loss: 0.3512 - accuracy: 0.8776\n",
      "Epoch 30/100\n",
      "1563/1563 [==============================] - 51s 33ms/step - loss: 0.3333 - accuracy: 0.8825\n",
      "Epoch 31/100\n",
      "1563/1563 [==============================] - 53s 34ms/step - loss: 0.3215 - accuracy: 0.8867\n",
      "Epoch 32/100\n",
      "1563/1563 [==============================] - 52s 33ms/step - loss: 0.3118 - accuracy: 0.8912\n",
      "Epoch 33/100\n",
      "1563/1563 [==============================] - 51s 33ms/step - loss: 0.3066 - accuracy: 0.8937\n",
      "Epoch 34/100\n",
      "1563/1563 [==============================] - 52s 33ms/step - loss: 0.2947 - accuracy: 0.8964\n",
      "Epoch 35/100\n",
      "1563/1563 [==============================] - 51s 33ms/step - loss: 0.2835 - accuracy: 0.9006\n",
      "Epoch 36/100\n",
      "1563/1563 [==============================] - 51s 33ms/step - loss: 0.2836 - accuracy: 0.9007\n",
      "Epoch 37/100\n",
      "1563/1563 [==============================] - 51s 33ms/step - loss: 0.2755 - accuracy: 0.9042\n",
      "Epoch 38/100\n",
      "1563/1563 [==============================] - 51s 33ms/step - loss: 0.2696 - accuracy: 0.9059\n",
      "Epoch 39/100\n",
      "1563/1563 [==============================] - 51s 33ms/step - loss: 0.2605 - accuracy: 0.9094\n",
      "Epoch 40/100\n",
      "1563/1563 [==============================] - 52s 33ms/step - loss: 0.2522 - accuracy: 0.9120\n",
      "Epoch 41/100\n",
      "1563/1563 [==============================] - 51s 33ms/step - loss: 0.2458 - accuracy: 0.9153\n",
      "Epoch 42/100\n",
      "1563/1563 [==============================] - 52s 33ms/step - loss: 0.2399 - accuracy: 0.9169\n",
      "Epoch 43/100\n",
      "1563/1563 [==============================] - 52s 33ms/step - loss: 0.2368 - accuracy: 0.9185\n",
      "Epoch 44/100\n",
      "1563/1563 [==============================] - 52s 33ms/step - loss: 0.2335 - accuracy: 0.9197\n",
      "Epoch 45/100\n",
      "1563/1563 [==============================] - 50s 32ms/step - loss: 0.2190 - accuracy: 0.9235\n",
      "Epoch 46/100\n",
      "1563/1563 [==============================] - 51s 33ms/step - loss: 0.2160 - accuracy: 0.9256\n",
      "Epoch 47/100\n",
      "1563/1563 [==============================] - 51s 33ms/step - loss: 0.2173 - accuracy: 0.9263\n",
      "Epoch 48/100\n",
      "1563/1563 [==============================] - 51s 33ms/step - loss: 0.2128 - accuracy: 0.9283\n",
      "Epoch 49/100\n",
      "1563/1563 [==============================] - 52s 33ms/step - loss: 0.2011 - accuracy: 0.9305\n",
      "Epoch 50/100\n",
      "1563/1563 [==============================] - 52s 33ms/step - loss: 0.2049 - accuracy: 0.9301\n",
      "Epoch 51/100\n",
      "1563/1563 [==============================] - 52s 33ms/step - loss: 0.2029 - accuracy: 0.9313\n",
      "Epoch 52/100\n",
      "1563/1563 [==============================] - 52s 33ms/step - loss: 0.1936 - accuracy: 0.9343\n",
      "Epoch 53/100\n",
      "1563/1563 [==============================] - 52s 33ms/step - loss: 0.1954 - accuracy: 0.9336\n",
      "Epoch 54/100\n",
      "1563/1563 [==============================] - 51s 32ms/step - loss: 0.1926 - accuracy: 0.9340\n",
      "Epoch 55/100\n",
      "1563/1563 [==============================] - 51s 32ms/step - loss: 0.1856 - accuracy: 0.9371\n",
      "Epoch 56/100\n",
      "1563/1563 [==============================] - 51s 32ms/step - loss: 0.1802 - accuracy: 0.9386\n",
      "Epoch 57/100\n",
      "1563/1563 [==============================] - 52s 33ms/step - loss: 0.1890 - accuracy: 0.9364\n",
      "Epoch 58/100\n",
      "1563/1563 [==============================] - 51s 32ms/step - loss: 0.1773 - accuracy: 0.9400\n",
      "Epoch 59/100\n",
      "1563/1563 [==============================] - 51s 32ms/step - loss: 0.1755 - accuracy: 0.9411\n",
      "Epoch 60/100\n",
      "1563/1563 [==============================] - 51s 33ms/step - loss: 0.1746 - accuracy: 0.9431\n",
      "Epoch 61/100\n",
      "1563/1563 [==============================] - 51s 32ms/step - loss: 0.1712 - accuracy: 0.9427\n",
      "Epoch 62/100\n",
      "1563/1563 [==============================] - 53s 34ms/step - loss: 0.1672 - accuracy: 0.9435\n",
      "Epoch 63/100\n",
      "1563/1563 [==============================] - 51s 33ms/step - loss: 0.1650 - accuracy: 0.9455\n",
      "Epoch 64/100\n",
      "1563/1563 [==============================] - 47s 30ms/step - loss: 0.1608 - accuracy: 0.9467\n",
      "Epoch 65/100\n",
      "1563/1563 [==============================] - 47s 30ms/step - loss: 0.1561 - accuracy: 0.9472\n",
      "Epoch 66/100\n",
      "1563/1563 [==============================] - 47s 30ms/step - loss: 0.1526 - accuracy: 0.9493\n",
      "Epoch 67/100\n",
      "1563/1563 [==============================] - 47s 30ms/step - loss: 0.1514 - accuracy: 0.9483\n",
      "Epoch 68/100\n",
      "1563/1563 [==============================] - 47s 30ms/step - loss: 0.1606 - accuracy: 0.9468\n",
      "Epoch 69/100\n",
      "1563/1563 [==============================] - 49s 31ms/step - loss: 0.1488 - accuracy: 0.9504\n",
      "Epoch 70/100\n",
      "1563/1563 [==============================] - 50s 32ms/step - loss: 0.1469 - accuracy: 0.9520\n",
      "Epoch 71/100\n",
      "1563/1563 [==============================] - 51s 33ms/step - loss: 0.1518 - accuracy: 0.9499\n",
      "Epoch 72/100\n",
      "1563/1563 [==============================] - 51s 33ms/step - loss: 0.1501 - accuracy: 0.9506\n",
      "Epoch 73/100\n",
      "1563/1563 [==============================] - 51s 33ms/step - loss: 0.1477 - accuracy: 0.9516\n",
      "Epoch 74/100\n",
      "1563/1563 [==============================] - 51s 33ms/step - loss: 0.1405 - accuracy: 0.9538\n",
      "Epoch 75/100\n",
      "1563/1563 [==============================] - 52s 33ms/step - loss: 0.1423 - accuracy: 0.9539\n",
      "Epoch 76/100\n",
      "1563/1563 [==============================] - 53s 34ms/step - loss: 0.1416 - accuracy: 0.9534\n",
      "Epoch 77/100\n",
      "1563/1563 [==============================] - 52s 33ms/step - loss: 0.1375 - accuracy: 0.9545\n",
      "Epoch 78/100\n"
     ]
    },
    {
     "name": "stdout",
     "output_type": "stream",
     "text": [
      "1563/1563 [==============================] - 51s 33ms/step - loss: 0.1392 - accuracy: 0.9547\n",
      "Epoch 79/100\n",
      "1563/1563 [==============================] - 50s 32ms/step - loss: 0.1372 - accuracy: 0.9549\n",
      "Epoch 80/100\n",
      "1563/1563 [==============================] - 53s 34ms/step - loss: 0.1388 - accuracy: 0.9553\n",
      "Epoch 81/100\n",
      "1563/1563 [==============================] - 52s 33ms/step - loss: 0.1281 - accuracy: 0.9579\n",
      "Epoch 82/100\n",
      "1563/1563 [==============================] - 51s 32ms/step - loss: 0.1352 - accuracy: 0.9569\n",
      "Epoch 83/100\n",
      "1563/1563 [==============================] - 51s 32ms/step - loss: 0.1322 - accuracy: 0.9570\n",
      "Epoch 84/100\n",
      "1563/1563 [==============================] - 51s 32ms/step - loss: 0.1297 - accuracy: 0.9576\n",
      "Epoch 85/100\n",
      "1563/1563 [==============================] - 51s 33ms/step - loss: 0.1260 - accuracy: 0.9584\n",
      "Epoch 86/100\n",
      "1563/1563 [==============================] - 54s 35ms/step - loss: 0.1294 - accuracy: 0.9583\n",
      "Epoch 87/100\n",
      "1563/1563 [==============================] - 51s 33ms/step - loss: 0.1184 - accuracy: 0.9612\n",
      "Epoch 88/100\n",
      "1563/1563 [==============================] - 55s 35ms/step - loss: 0.1318 - accuracy: 0.9578\n",
      "Epoch 89/100\n",
      "1563/1563 [==============================] - 58s 37ms/step - loss: 0.1171 - accuracy: 0.9619\n",
      "Epoch 90/100\n",
      "1563/1563 [==============================] - 58s 37ms/step - loss: 0.1226 - accuracy: 0.9608\n",
      "Epoch 91/100\n",
      "1563/1563 [==============================] - 58s 37ms/step - loss: 0.1216 - accuracy: 0.9604\n",
      "Epoch 92/100\n",
      "1563/1563 [==============================] - 55s 35ms/step - loss: 0.1186 - accuracy: 0.9615\n",
      "Epoch 93/100\n",
      "1563/1563 [==============================] - 55s 35ms/step - loss: 0.1248 - accuracy: 0.9605\n",
      "Epoch 94/100\n",
      "1563/1563 [==============================] - 55s 35ms/step - loss: 0.1159 - accuracy: 0.9628\n",
      "Epoch 95/100\n",
      "1563/1563 [==============================] - 55s 35ms/step - loss: 0.1199 - accuracy: 0.9621\n",
      "Epoch 96/100\n",
      "1563/1563 [==============================] - 55s 35ms/step - loss: 0.1156 - accuracy: 0.9624\n",
      "Epoch 97/100\n",
      "1563/1563 [==============================] - 57s 36ms/step - loss: 0.1182 - accuracy: 0.9627\n",
      "Epoch 98/100\n",
      "1563/1563 [==============================] - 55s 35ms/step - loss: 0.1142 - accuracy: 0.9632\n",
      "Epoch 99/100\n",
      "1563/1563 [==============================] - 55s 35ms/step - loss: 0.1188 - accuracy: 0.9616\n",
      "Epoch 100/100\n",
      "1563/1563 [==============================] - 54s 35ms/step - loss: 0.1150 - accuracy: 0.9624\n",
      "1563/1563 [==============================] - 14s 9ms/step - loss: 0.0091 - accuracy: 0.9989\n",
      "Test loss: 0.009088026359677315, Test accuracy: 99.88600015640259\n"
     ]
    }
   ],
   "source": [
    "history = model.fit(x=data_train, y=label_train, epochs=100)\n",
    "test_loss, test_accuracy = model.evaluate(data_train, label_train)\n",
    "\n",
    "print('Test loss: {}, Test accuracy: {}'.format(test_loss, test_accuracy*100))"
   ]
  },
  {
   "cell_type": "markdown",
   "id": "685a2733",
   "metadata": {},
   "source": [
    "#### Evaluate Result"
   ]
  },
  {
   "cell_type": "code",
   "execution_count": 23,
   "id": "b3ab195e",
   "metadata": {},
   "outputs": [
    {
     "data": {
      "image/png": "[encoded data removed]",
      "text/plain": [
       "<Figure size 1080x1080 with 2 Axes>"
      ]
     },
     "metadata": {
      "needs_background": "light"
     },
     "output_type": "display_data"
    }
   ],
   "source": [
    "acc = history.history['accuracy']\n",
    "loss = history.history['loss']\n",
    "\n",
    "epochs_range = range(100)\n",
    "\n",
    "plt.figure(figsize=(15, 15))\n",
    "plt.subplot(2, 2, 1)\n",
    "plt.plot(epochs_range, acc, label='Training Accuracy')\n",
    "plt.legend(loc='lower right')\n",
    "plt.title('Training Accuracy')\n",
    "\n",
    "plt.subplot(2, 2, 2)\n",
    "plt.plot(epochs_range, loss, label='Training Loss')\n",
    "plt.legend(loc='upper right')\n",
    "plt.title('Training Loss')\n",
    "plt.show()"
   ]
  },
  {
   "cell_type": "code",
   "execution_count": 46,
   "id": "27202dba",
   "metadata": {
    "scrolled": true
   },
   "outputs": [
    {
     "name": "stdout",
     "output_type": "stream",
     "text": [
      "10000/10000 [==============================] - 22s 2ms/step\n"
     ]
    },
    {
     "ename": "ValueError",
     "evalue": "Found input variables with inconsistent numbers of samples: [10000, 1]",
     "output_type": "error",
     "traceback": [
      "\u001b[1;31m---------------------------------------------------------------------------\u001b[0m",
      "\u001b[1;31mValueError\u001b[0m                                Traceback (most recent call last)",
      "Input \u001b[1;32mIn [46]\u001b[0m, in \u001b[0;36m<cell line: 4>\u001b[1;34m()\u001b[0m\n\u001b[0;32m      1\u001b[0m predictions \u001b[38;5;241m=\u001b[39m model\u001b[38;5;241m.\u001b[39mpredict(data_test, batch_size\u001b[38;5;241m=\u001b[39m\u001b[38;5;241m1\u001b[39m) \n\u001b[0;32m      2\u001b[0m predictions \u001b[38;5;241m=\u001b[39m predictions\u001b[38;5;241m.\u001b[39mreshape(\u001b[38;5;241m-\u001b[39m\u001b[38;5;241m1\u001b[39m,\u001b[38;5;241m1\u001b[39m)[\u001b[38;5;241m0\u001b[39m]\n\u001b[1;32m----> 4\u001b[0m \u001b[38;5;28mprint\u001b[39m(\u001b[43mclassification_report\u001b[49m\u001b[43m(\u001b[49m\u001b[43mlabel_test\u001b[49m\u001b[43m,\u001b[49m\u001b[43m \u001b[49m\u001b[43mpredictions\u001b[49m\u001b[43m,\u001b[49m\u001b[43m \u001b[49m\u001b[43mtarget_names\u001b[49m\u001b[43m \u001b[49m\u001b[38;5;241;43m=\u001b[39;49m\u001b[43m \u001b[49m\u001b[43mlabel_test\u001b[49m\u001b[43m)\u001b[49m)\n",
      "File \u001b[1;32mC:\\ProgramData\\Anaconda3\\lib\\site-packages\\sklearn\\metrics\\_classification.py:2110\u001b[0m, in \u001b[0;36mclassification_report\u001b[1;34m(y_true, y_pred, labels, target_names, sample_weight, digits, output_dict, zero_division)\u001b[0m\n\u001b[0;32m   1998\u001b[0m \u001b[38;5;28;01mdef\u001b[39;00m \u001b[38;5;21mclassification_report\u001b[39m(\n\u001b[0;32m   1999\u001b[0m     y_true,\n\u001b[0;32m   2000\u001b[0m     y_pred,\n\u001b[1;32m   (...)\u001b[0m\n\u001b[0;32m   2007\u001b[0m     zero_division\u001b[38;5;241m=\u001b[39m\u001b[38;5;124m\"\u001b[39m\u001b[38;5;124mwarn\u001b[39m\u001b[38;5;124m\"\u001b[39m,\n\u001b[0;32m   2008\u001b[0m ):\n\u001b[0;32m   2009\u001b[0m     \u001b[38;5;124;03m\"\"\"Build a text report showing the main classification metrics.\u001b[39;00m\n\u001b[0;32m   2010\u001b[0m \n\u001b[0;32m   2011\u001b[0m \u001b[38;5;124;03m    Read more in the :ref:`User Guide <classification_report>`.\u001b[39;00m\n\u001b[1;32m   (...)\u001b[0m\n\u001b[0;32m   2107\u001b[0m \u001b[38;5;124;03m    <BLANKLINE>\u001b[39;00m\n\u001b[0;32m   2108\u001b[0m \u001b[38;5;124;03m    \"\"\"\u001b[39;00m\n\u001b[1;32m-> 2110\u001b[0m     y_type, y_true, y_pred \u001b[38;5;241m=\u001b[39m \u001b[43m_check_targets\u001b[49m\u001b[43m(\u001b[49m\u001b[43my_true\u001b[49m\u001b[43m,\u001b[49m\u001b[43m \u001b[49m\u001b[43my_pred\u001b[49m\u001b[43m)\u001b[49m\n\u001b[0;32m   2112\u001b[0m     \u001b[38;5;28;01mif\u001b[39;00m labels \u001b[38;5;129;01mis\u001b[39;00m \u001b[38;5;28;01mNone\u001b[39;00m:\n\u001b[0;32m   2113\u001b[0m         labels \u001b[38;5;241m=\u001b[39m unique_labels(y_true, y_pred)\n",
      "File \u001b[1;32mC:\\ProgramData\\Anaconda3\\lib\\site-packages\\sklearn\\metrics\\_classification.py:84\u001b[0m, in \u001b[0;36m_check_targets\u001b[1;34m(y_true, y_pred)\u001b[0m\n\u001b[0;32m     57\u001b[0m \u001b[38;5;28;01mdef\u001b[39;00m \u001b[38;5;21m_check_targets\u001b[39m(y_true, y_pred):\n\u001b[0;32m     58\u001b[0m     \u001b[38;5;124;03m\"\"\"Check that y_true and y_pred belong to the same classification task.\u001b[39;00m\n\u001b[0;32m     59\u001b[0m \n\u001b[0;32m     60\u001b[0m \u001b[38;5;124;03m    This converts multiclass or binary types to a common shape, and raises a\u001b[39;00m\n\u001b[1;32m   (...)\u001b[0m\n\u001b[0;32m     82\u001b[0m \u001b[38;5;124;03m    y_pred : array or indicator matrix\u001b[39;00m\n\u001b[0;32m     83\u001b[0m \u001b[38;5;124;03m    \"\"\"\u001b[39;00m\n\u001b[1;32m---> 84\u001b[0m     \u001b[43mcheck_consistent_length\u001b[49m\u001b[43m(\u001b[49m\u001b[43my_true\u001b[49m\u001b[43m,\u001b[49m\u001b[43m \u001b[49m\u001b[43my_pred\u001b[49m\u001b[43m)\u001b[49m\n\u001b[0;32m     85\u001b[0m     type_true \u001b[38;5;241m=\u001b[39m type_of_target(y_true)\n\u001b[0;32m     86\u001b[0m     type_pred \u001b[38;5;241m=\u001b[39m type_of_target(y_pred)\n",
      "File \u001b[1;32mC:\\ProgramData\\Anaconda3\\lib\\site-packages\\sklearn\\utils\\validation.py:332\u001b[0m, in \u001b[0;36mcheck_consistent_length\u001b[1;34m(*arrays)\u001b[0m\n\u001b[0;32m    330\u001b[0m uniques \u001b[38;5;241m=\u001b[39m np\u001b[38;5;241m.\u001b[39munique(lengths)\n\u001b[0;32m    331\u001b[0m \u001b[38;5;28;01mif\u001b[39;00m \u001b[38;5;28mlen\u001b[39m(uniques) \u001b[38;5;241m>\u001b[39m \u001b[38;5;241m1\u001b[39m:\n\u001b[1;32m--> 332\u001b[0m     \u001b[38;5;28;01mraise\u001b[39;00m \u001b[38;5;167;01mValueError\u001b[39;00m(\n\u001b[0;32m    333\u001b[0m         \u001b[38;5;124m\"\u001b[39m\u001b[38;5;124mFound input variables with inconsistent numbers of samples: \u001b[39m\u001b[38;5;132;01m%r\u001b[39;00m\u001b[38;5;124m\"\u001b[39m\n\u001b[0;32m    334\u001b[0m         \u001b[38;5;241m%\u001b[39m [\u001b[38;5;28mint\u001b[39m(l) \u001b[38;5;28;01mfor\u001b[39;00m l \u001b[38;5;129;01min\u001b[39;00m lengths]\n\u001b[0;32m    335\u001b[0m     )\n",
      "\u001b[1;31mValueError\u001b[0m: Found input variables with inconsistent numbers of samples: [10000, 1]"
     ]
    }
   ],
   "source": [
    "predictions = model.predict(data_test, batch_size=1) \n",
    "predictions = predictions.reshape(-1,1)[0]\n",
    "\n",
    "print(classification_report(label_test, predictions, target_names = label_test))"
   ]
  },
  {
   "cell_type": "code",
   "execution_count": 47,
   "id": "5319dc52",
   "metadata": {},
   "outputs": [
    {
     "name": "stdout",
     "output_type": "stream",
     "text": [
      "3.0675548e-10\n"
     ]
    }
   ],
   "source": [
    "print(predictions[0])"
   ]
  }
 ],
 "metadata": {
  "kernelspec": {
   "display_name": "Python 3 (ipykernel)",
   "language": "python",
   "name": "python3"
  },
  "language_info": {
   "codemirror_mode": {
    "name": "ipython",
    "version": 3
   },
   "file_extension": ".py",
   "mimetype": "text/x-python",
   "name": "python",
   "nbconvert_exporter": "python",
   "pygments_lexer": "ipython3",
   "version": "3.9.12"
  }
 },
 "nbformat": 4,
 "nbformat_minor": 5
}
