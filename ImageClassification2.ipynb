{
 "cells": [
  {
   "cell_type": "markdown",
   "id": "1e764ae6",
   "metadata": {},
   "source": [
    "# Image Classification Program \n",
    "\n",
    "#### Import all necessary packages before starting the program. This time usng Pytorch and Tf more."
   ]
  },
  {
   "cell_type": "code",
   "execution_count": 1,
   "id": "c59ea4d0",
   "metadata": {},
   "outputs": [],
   "source": [
    "import numpy as np\n",
    "import matplotlib.pyplot as plt \n",
    "from PIL import Image\n",
    "\n",
    "import tensorflow as tf\n",
    "import torch\n",
    "\n",
    "#import datasets and transform function\n",
    "import torchvision \n",
    "import torchvision.transforms as transforms\n",
    "\n",
    "import torch.nn as nn\n",
    "import torch.optim as optim\n",
    "\n",
    "import ssl\n",
    "ssl._create_default_https_context = ssl._create_unverified_context"
   ]
  },
  {
   "cell_type": "markdown",
   "id": "e398d3a8",
   "metadata": {},
   "source": [
    "#### Load and Normalize Data"
   ]
  },
  {
   "cell_type": "code",
   "execution_count": 2,
   "id": "2ce58f0f",
   "metadata": {
    "scrolled": false
   },
   "outputs": [],
   "source": [
    "#define transform to convert images into Tensors then normalize them\n",
    "transform = transforms.Compose(\n",
    "    [\n",
    "        transforms.ToTensor(),\n",
    "        transforms.Normalize((0.5), (0.5))\n",
    "    ]\n",
    ")\n",
    "\n",
    "#set batch size\n",
    "batch_size = 4\n",
    "#set number of workers\n",
    "num_workers = 2\n",
    "\n",
    "#load training data\n",
    "trainset = torchvision.datasets.FashionMNIST(root='./data',train=True, download=True,\n",
    "                                        transform=transform)\n",
    "\n",
    "trainloader = torch.utils.data.DataLoader(trainset, batch_size=batch_size, \n",
    "                                        shuffle=True, num_workers=num_workers)\n",
    "\n",
    "#load test data\n",
    "testset = torchvision.datasets.FashionMNIST(root='./data',train=False, download=True,\n",
    "                                        transform=transform)\n",
    "\n",
    "testloader = torch.utils.data.DataLoader(testset, batch_size=batch_size,\n",
    "                                        shuffle=False, num_workers=num_workers)\n"
   ]
  },
  {
   "cell_type": "markdown",
   "id": "74589682",
   "metadata": {},
   "source": [
    "#### Set up a convolutional neural network model"
   ]
  },
  {
   "cell_type": "code",
   "execution_count": 3,
   "id": "6c03a8fd",
   "metadata": {},
   "outputs": [
    {
     "name": "stdout",
     "output_type": "stream",
     "text": [
      "Net(\n",
      "  (conv1): Conv2d(1, 6, kernel_size=(3, 3), stride=(1, 1))\n",
      "  (pool): MaxPool2d(kernel_size=2, stride=2, padding=0, dilation=1, ceil_mode=False)\n",
      "  (conv2): Conv2d(6, 16, kernel_size=(3, 3), stride=(1, 1))\n",
      "  (fc1): Linear(in_features=400, out_features=120, bias=True)\n",
      "  (fc2): Linear(in_features=120, out_features=84, bias=True)\n",
      "  (fc3): Linear(in_features=84, out_features=10, bias=True)\n",
      ")\n"
     ]
    }
   ],
   "source": [
    "\n",
    "class Net(nn.Module):\n",
    "    \n",
    "    def __init__(self):\n",
    "        '''init the neural network'''\n",
    "        super(Net, self).__init__()\n",
    "        \n",
    "        #set up 3x3 convolution kernels\n",
    "        self.conv1 = nn.Conv2d(1, 6, 3)\n",
    "        #set up 2x2 max pooling window\n",
    "        self.pool = nn.MaxPool2d(2, 2)\n",
    "        self.conv2 = nn.Conv2d(6, 16, 3)\n",
    "        \n",
    "        \n",
    "        self.fc1 = nn.Linear(16*5*5, 120)\n",
    "        self.fc2 = nn.Linear(120, 84)\n",
    "        self.fc3 = nn.Linear(84, 10)\n",
    "        \n",
    "    def forward(self, mod):\n",
    "        '''defines the forward propogation algorithm'''\n",
    "        #apply MaxPooling on the relu'd results from conv1/con2\n",
    "        mod = self.pool(nn.functional.relu(self.conv1(mod)))\n",
    "        mod = self.pool(nn.functional.relu(self.conv2(mod)))\n",
    "        mod = mod.flatten(1)\n",
    "        #run fc1 and fc2 layers through relu\n",
    "        mod = nn.functional.relu(self.fc1(mod))\n",
    "        mod = nn.functional.relu(self.fc2(mod))\n",
    "        #fc3 will give us the final 10 layers\n",
    "        mod = self.fc3(mod)\n",
    "        return mod\n",
    "    \n",
    "net = Net()\n",
    "print(net)\n",
    "        \n",
    "        "
   ]
  },
  {
   "cell_type": "markdown",
   "id": "0281edbf",
   "metadata": {},
   "source": [
    "#### Define the loss func and optimzer"
   ]
  },
  {
   "cell_type": "code",
   "execution_count": 4,
   "id": "9c224030",
   "metadata": {},
   "outputs": [],
   "source": [
    "#similar to Keras's sparse categoricla cross-entropy \n",
    "crit = nn.CrossEntropyLoss()\n",
    "#I used Adam in other program, just wanted to try sgd instead this time\n",
    "optimizer = optim.SGD(net.parameters(), lr=0.001, momentum=0.9)"
   ]
  },
  {
   "cell_type": "markdown",
   "id": "974d1934",
   "metadata": {},
   "source": [
    "#### Train the nn"
   ]
  },
  {
   "cell_type": "code",
   "execution_count": 5,
   "id": "ad8ac42f",
   "metadata": {
    "scrolled": true
   },
   "outputs": [
    {
     "name": "stdout",
     "output_type": "stream",
     "text": [
      "False\n",
      "[1,  2000] loss: 1.318\n",
      "[1,  4000] loss: 0.647\n",
      "[1,  6000] loss: 0.562\n",
      "[1,  8000] loss: 0.524\n",
      "[1, 10000] loss: 0.483\n",
      "[1, 12000] loss: 0.451\n",
      "[1, 14000] loss: 0.443\n",
      "[2,  2000] loss: 0.408\n",
      "[2,  4000] loss: 0.391\n",
      "[2,  6000] loss: 0.374\n",
      "[2,  8000] loss: 0.383\n",
      "[2, 10000] loss: 0.361\n",
      "[2, 12000] loss: 0.373\n",
      "[2, 14000] loss: 0.347\n",
      "[3,  2000] loss: 0.329\n",
      "[3,  4000] loss: 0.349\n",
      "[3,  6000] loss: 0.326\n",
      "[3,  8000] loss: 0.328\n",
      "[3, 10000] loss: 0.325\n",
      "[3, 12000] loss: 0.315\n",
      "[3, 14000] loss: 0.316\n",
      "[4,  2000] loss: 0.301\n",
      "[4,  4000] loss: 0.305\n",
      "[4,  6000] loss: 0.302\n",
      "[4,  8000] loss: 0.283\n",
      "[4, 10000] loss: 0.298\n",
      "[4, 12000] loss: 0.303\n",
      "[4, 14000] loss: 0.285\n",
      "[5,  2000] loss: 0.273\n",
      "[5,  4000] loss: 0.276\n",
      "[5,  6000] loss: 0.281\n",
      "[5,  8000] loss: 0.269\n",
      "[5, 10000] loss: 0.285\n",
      "[5, 12000] loss: 0.262\n",
      "[5, 14000] loss: 0.281\n",
      "Finished Training\n"
     ]
    }
   ],
   "source": [
    "print(torch.cuda.is_available())\n",
    "\n",
    "for epoch in range(5):\n",
    "    r_loss = 0.0\n",
    "    for i, data in enumerate(trainloader,0):\n",
    "        inputs, labels = data\n",
    "        \n",
    "        optimizer.zero_grad()\n",
    "        \n",
    "        outputs = net(inputs)\n",
    "        loss = crit(outputs, labels)\n",
    "        loss.backward()\n",
    "        optimizer.step()\n",
    "        \n",
    "        #print stats\n",
    "        r_loss += loss.item()\n",
    "        if i % 2000 == 1999: #print every 2000 iters\n",
    "            print('[%d, %5d] loss: %.3f' %\n",
    "                 (epoch + 1, i + 1, r_loss/2000))\n",
    "            r_loss = 0.0\n",
    "\n",
    "\n",
    "print('Finished Training')"
   ]
  },
  {
   "cell_type": "code",
   "execution_count": 15,
   "id": "854a399e",
   "metadata": {
    "scrolled": true
   },
   "outputs": [
    {
     "name": "stdout",
     "output_type": "stream",
     "text": [
      "Actual:  9 2 1 1\n",
      "Predicted:  9 2 1 1\n"
     ]
    }
   ],
   "source": [
    "data_iter = iter(testloader)\n",
    "images, labels = data_iter.next()\n",
    "\n",
    "# print images\n",
    "\n",
    "print('Actual: ', ' '.join('%d' % labels[j] for j in range(4)))\n",
    "\n",
    "outputs = net(images)\n",
    "\n",
    "_, predicted = torch.max(outputs, 1)\n",
    "print('Predicted: ', ' '.join('%d' % predicted[j] for j in range(4)))"
   ]
  }
 ],
 "metadata": {
  "kernelspec": {
   "display_name": "Python 3 (ipykernel)",
   "language": "python",
   "name": "python3"
  },
  "language_info": {
   "codemirror_mode": {
    "name": "ipython",
    "version": 3
   },
   "file_extension": ".py",
   "mimetype": "text/x-python",
   "name": "python",
   "nbconvert_exporter": "python",
   "pygments_lexer": "ipython3",
   "version": "3.9.12"
  }
 },
 "nbformat": 4,
 "nbformat_minor": 5
}
